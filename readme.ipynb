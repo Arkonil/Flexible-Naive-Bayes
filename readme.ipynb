{
 "cells": [
  {
   "cell_type": "markdown",
   "metadata": {},
   "source": [
    "# Flexible Naive Bayes\n",
    "A comparative study between Naive Bayes Classifier and Flexible Bayes Classifier\n",
    "\n",
    "## Simulation\n",
    "Data generated from both Gaussian and non Gaussian Distribution and compared the predictive accuracies between Naive Bayes and Flexible Bayes Classifier.\n",
    "\n",
    "### 1. Gaussian Distribution\n",
    "Data are generated from a $N_5(\\mu, I_n)$ distribution where $\\mu = (1, 2, 3, 4, 5)'$.\n",
    "\n",
    "* Number of Classes $=5$\n",
    "* Class Sizes $ = [100, 110, 95, 101, 99]$\n",
    "\n",
    "|Classifier|Train Accuracy|Test Accuracy|\n",
    "|:-:|:-:|:-:|\n",
    "|Naive Bayes |0.8237|0.8823|\n",
    "|Flexible Bayes (scott)|0.9801|0.8431|\n",
    "|Flexible Bayes (Silverman)|0.9845|0.8627|\n",
    "|Flexible Bayes (CV-LS)|0.9713|0.7647|\n",
    "|Flexible Bayes (CV-ML)|0.9581|0.8039|\n",
    "\n"
   ]
  }
 ],
 "metadata": {
  "language_info": {
   "name": "python"
  },
  "orig_nbformat": 4
 },
 "nbformat": 4,
 "nbformat_minor": 2
}
