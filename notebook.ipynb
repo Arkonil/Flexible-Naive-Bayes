{
 "cells": [
  {
   "cell_type": "markdown",
   "metadata": {},
   "source": [
    "# Workflow\n",
    "\n",
    "- Title Page and authors\n",
    "- Workflow\n",
    "- Introduction\n",
    "- Naive Bayes Theory\n",
    "- Problem in assumption\n",
    "- Solution: Using KDE as likelihood\n",
    "- KDE Theory\n",
    "- Bandwidth Selection: why important\n",
    "- Asymptotic theorems\n",
    "- Used Bandwidth Selection Methods\n",
    "- Results\n",
    "  - Simulated Data\n",
    "  - Real world data\n",
    "- Conclusion"
   ]
  },
  {
   "cell_type": "markdown",
   "metadata": {},
   "source": [
    "# Library Import"
   ]
  },
  {
   "cell_type": "code",
   "execution_count": 1,
   "metadata": {},
   "outputs": [],
   "source": [
    "import numpy as np\n",
    "import pandas as pd\n",
    "import matplotlib.pyplot as plt\n",
    "%matplotlib inline\n",
    "\n",
    "from sklearn.naive_bayes import GaussianNB \n",
    "from sklearn.model_selection import train_test_split\n",
    "\n",
    "from sklearn.datasets import load_breast_cancer as breast_cancer\n",
    "from sklearn.datasets import load_iris as iris\n",
    "from sklearn.datasets import load_wine as wine\n",
    "\n",
    "datasets = {'breast_cancer': breast_cancer, 'iris': iris, 'wine': wine}\n",
    "\n",
    "from FlexibleNB import FlexibleNB"
   ]
  },
  {
   "cell_type": "code",
   "execution_count": 2,
   "metadata": {},
   "outputs": [],
   "source": [
    "def result_with_data(X, y, test_size):\n",
    "    X_train, X_test, y_train, y_test = train_test_split(X, y, test_size=test_size)\n",
    "    methods = ['scott', 'silverman', 'cv_ml', 'cv_ls']\n",
    "    results = pd.DataFrame(\n",
    "        columns=['Train Accuracy', 'Test Accuracy'], \n",
    "        index=['gaussian'] + methods)\n",
    "    model = GaussianNB()\n",
    "    model.fit(X_train, y_train)\n",
    "    results.loc['gaussian', 'Train Accuracy'] = model.score(X_train, y_train)\n",
    "    results.loc['gaussian', 'Test Accuracy'] = model.score(X_test, y_test)\n",
    "    for method in methods:\n",
    "        model = FlexibleNB(method, 'c'*X.shape[1])\n",
    "        model.fit(X_train, y_train)\n",
    "        results.loc[method, 'Train Accuracy'] = model.score(X_train, y_train)\n",
    "        results.loc[method, 'Test Accuracy'] = model.score(X_test, y_test)\n",
    "    return results"
   ]
  },
  {
   "cell_type": "markdown",
   "metadata": {},
   "source": [
    "# Simulation"
   ]
  },
  {
   "cell_type": "code",
   "execution_count": 3,
   "metadata": {},
   "outputs": [],
   "source": [
    "def simulate_normal(sim_num, progress_bar=None):\n",
    "    # C = [i for i in range(5)]\n",
    "    try:\n",
    "        sample_size = [100,110,95,101,99]\n",
    "        cov = np.identity(6)\n",
    "        X = []\n",
    "        y = []\n",
    "        for i in range(len(sample_size)):\n",
    "            mean = [i]*6\n",
    "            sample = list(np.random.multivariate_normal(mean, cov, sample_size[i]))\n",
    "            X += sample\n",
    "            y += [i]*sample_size[i]\n",
    "        X = np.array(X)\n",
    "        y = np.array(y)\n",
    "        # print(\"Normal Population\")\n",
    "        result = result_with_data(X, y, 0.25)\n",
    "        result.to_csv(f\"./results/normal-{sim_num:04}.csv\")\n",
    "        if progress_bar:\n",
    "            progress_bar.update()\n",
    "    except Exception as e:\n",
    "        print(e)\n",
    "\n",
    "\n",
    "def simulate_non_normal(sim_num, progress_bar):\n",
    "    # C = [i for i in range(5)]\n",
    "    sample_size = [100,110,95,101,99]\n",
    "    X = []\n",
    "    y = []\n",
    "    for i in range(len(sample_size)):\n",
    "        sample = list(np.random.laplace(loc = i, scale = 1, size = (sample_size[i],6)))\n",
    "        X += sample\n",
    "        y += [i]*sample_size[i]\n",
    "    X = np.array(X)\n",
    "    y = np.array(y)\n",
    "    # print(\"Non-Normal Population\")\n",
    "    result = result_with_data(X, y, 0.25)\n",
    "    result.to_csv(f\"./results/non-normal-{sim_num:04}.csv\")\n",
    "    if progress_bar:\n",
    "            progress_bar.update()"
   ]
  },
  {
   "cell_type": "code",
   "execution_count": 4,
   "metadata": {},
   "outputs": [],
   "source": [
    "from concurrent.futures import ThreadPoolExecutor\n",
    "from tqdm import tqdm\n",
    "\n",
    "with tqdm(total=1000) as progress_bar:\n",
    "    with ThreadPoolExecutor() as executor:\n",
    "        executor.map(lambda i: simulate_normal(i, progress_bar), range(1, 1001))"
   ]
  },
  {
   "cell_type": "code",
   "execution_count": 5,
   "metadata": {},
   "outputs": [
    {
     "name": "stderr",
     "output_type": "stream",
     "text": [
      "100%|██████████| 50/50 [51:17<00:00, 61.55s/it]  \n"
     ]
    }
   ],
   "source": [
    "from concurrent.futures import ThreadPoolExecutor\n",
    "from tqdm import tqdm\n",
    "\n",
    "with tqdm(total=50) as progress_bar:\n",
    "    with ThreadPoolExecutor() as executor:\n",
    "        executor.map(lambda i: simulate_non_normal(i, progress_bar), range(101, 151))"
   ]
  },
  {
   "cell_type": "code",
   "execution_count": 10,
   "metadata": {},
   "outputs": [],
   "source": [
    "normal_result = np.zeros((5, 2, 150))\n",
    "for i in range(1, 151):\n",
    "    df = pd.read_csv(f\"./results/normal-{i:04}.csv\", index_col=0)\n",
    "    df = df.to_numpy()\n",
    "    normal_result[:, :, i-1] = df\n",
    "\n",
    "non_normal_result = np.zeros((5, 2, 150))\n",
    "for i in range(1, 151):\n",
    "    df = pd.read_csv(f\"./results/non-normal-{i:04}.csv\", index_col=0)\n",
    "    df = df.to_numpy()\n",
    "    non_normal_result[:, :, i-1] = df"
   ]
  },
  {
   "cell_type": "code",
   "execution_count": 11,
   "metadata": {},
   "outputs": [
    {
     "data": {
      "text/plain": [
       "(array([[0.83458554, 0.80992126],\n",
       "        [0.99123457, 0.74892388],\n",
       "        [0.99564374, 0.7416273 ],\n",
       "        [0.97114638, 0.76587927],\n",
       "        [0.98326279, 0.72734908]]),\n",
       " array([[0.73479718, 0.68834646],\n",
       "        [0.97151675, 0.66671916],\n",
       "        [0.98162257, 0.6616273 ],\n",
       "        [0.93737213, 0.67191601],\n",
       "        [0.98740741, 0.61475066]]))"
      ]
     },
     "execution_count": 11,
     "metadata": {},
     "output_type": "execute_result"
    }
   ],
   "source": [
    "normal_result.mean(axis=-1), non_normal_result.mean(axis=-1)"
   ]
  },
  {
   "cell_type": "markdown",
   "metadata": {},
   "source": [
    "# Toy Datasets"
   ]
  },
  {
   "cell_type": "code",
   "execution_count": 25,
   "metadata": {},
   "outputs": [
    {
     "name": "stdout",
     "output_type": "stream",
     "text": [
      "breast_cancer\n",
      "                 Train Accuracy Test Accuracy\n",
      "gaussian               0.934272       0.93007\n",
      "scott                  0.995305      0.937063\n",
      "silverman              0.997653      0.951049\n",
      "normal_reference       0.946009      0.923077\n",
      "cv_ml                  0.976526      0.944056\n",
      "cv_ls                       1.0       0.41958\n",
      "iris\n",
      "                 Train Accuracy Test Accuracy\n",
      "gaussian               0.946429           1.0\n",
      "scott                       1.0           1.0\n",
      "silverman                   1.0           1.0\n",
      "normal_reference       0.982143      0.973684\n",
      "cv_ml                  0.991071      0.973684\n",
      "cv_ls                       1.0      0.789474\n",
      "wine\n",
      "                 Train Accuracy Test Accuracy\n",
      "gaussian               0.992481      0.933333\n",
      "scott                       1.0           1.0\n",
      "silverman                   1.0           1.0\n",
      "normal_reference            1.0           1.0\n",
      "cv_ml                       1.0      0.977778\n",
      "cv_ls                  0.984962      0.644444\n"
     ]
    }
   ],
   "source": [
    "for name, load_data in datasets.items():\n",
    "    print(name)\n",
    "    X, y = load_data(return_X_y=True)\n",
    "    print(result_with_data(X, y, 0.25))"
   ]
  },
  {
   "cell_type": "markdown",
   "metadata": {},
   "source": [
    "# Kernel GIF"
   ]
  },
  {
   "cell_type": "code",
   "execution_count": 11,
   "metadata": {},
   "outputs": [
    {
     "data": {
      "image/png": "[encoded data removed]",
      "text/plain": [
       "<Figure size 432x288 with 1 Axes>"
      ]
     },
     "metadata": {
      "needs_background": "light"
     },
     "output_type": "display_data"
    }
   ],
   "source": [
    "import numpy as np\n",
    "import matplotlib.pyplot as plt\n",
    "from matplotlib.animation import FuncAnimation\n",
    "\n",
    "fig, ax = plt.subplots()\n",
    "xdata, ydata = [], []\n",
    "ln, = plt.plot([], [], 'ro')\n",
    "\n",
    "def init():\n",
    "    ax.set_xlim(0, 2*np.pi)\n",
    "    ax.set_ylim(-1, 1)\n",
    "    return ln,\n",
    "\n",
    "def update(frame):\n",
    "    xdata.append(frame)\n",
    "    ydata.append(np.sin(frame))\n",
    "    ln.set_data(xdata, ydata)\n",
    "    return ln,\n",
    "\n",
    "ani = FuncAnimation(fig, update, frames=np.linspace(0, 2*np.pi, 128),\n",
    "                    init_func=init, blit=True)\n",
    "ani.save('gif.mp4')"
   ]
  },
  {
   "cell_type": "code",
   "execution_count": 1,
   "metadata": {},
   "outputs": [
    {
     "name": "stderr",
     "output_type": "stream",
     "text": [
      " 36%|███▌      | 361/1000 [04:53<08:39,  1.23it/s]\n"
     ]
    },
    {
     "ename": "KeyboardInterrupt",
     "evalue": "",
     "output_type": "error",
     "traceback": [
      "\u001b[1;31m---------------------------------------------------------------------------\u001b[0m",
      "\u001b[1;31mKeyboardInterrupt\u001b[0m                         Traceback (most recent call last)",
      "\u001b[1;32md:\\IITK files\\Non-Parametric Inference\\project\\notebook.ipynb Cell 17'\u001b[0m in \u001b[0;36m<cell line: 19>\u001b[1;34m()\u001b[0m\n\u001b[0;32m     <a href='vscode-notebook-cell:/d%3A/IITK%20files/Non-Parametric%20Inference/project/notebook.ipynb#ch0000019?line=28'>29</a>\u001b[0m kde \u001b[39m=\u001b[39m KernelDensity(kernel\u001b[39m=\u001b[39mkernels[row][col], bandwidth\u001b[39m=\u001b[39m\u001b[39m0.75\u001b[39m)\n\u001b[0;32m     <a href='vscode-notebook-cell:/d%3A/IITK%20files/Non-Parametric%20Inference/project/notebook.ipynb#ch0000019?line=29'>30</a>\u001b[0m kde\u001b[39m.\u001b[39mfit(sample)\n\u001b[1;32m---> <a href='vscode-notebook-cell:/d%3A/IITK%20files/Non-Parametric%20Inference/project/notebook.ipynb#ch0000019?line=30'>31</a>\u001b[0m density \u001b[39m=\u001b[39m np\u001b[39m.\u001b[39mexp(kde\u001b[39m.\u001b[39;49mscore_samples(points))\n\u001b[0;32m     <a href='vscode-notebook-cell:/d%3A/IITK%20files/Non-Parametric%20Inference/project/notebook.ipynb#ch0000019?line=32'>33</a>\u001b[0m axs[row, col]\u001b[39m.\u001b[39mcontourf(X, Y, density\u001b[39m.\u001b[39mreshape(\u001b[39m100\u001b[39m, \u001b[39m100\u001b[39m))\n\u001b[0;32m     <a href='vscode-notebook-cell:/d%3A/IITK%20files/Non-Parametric%20Inference/project/notebook.ipynb#ch0000019?line=33'>34</a>\u001b[0m axs[row, col]\u001b[39m.\u001b[39mset_title(kernels[row][col])\n",
      "File \u001b[1;32md:\\IITK files\\Non-Parametric Inference\\project\\kde-venv\\lib\\site-packages\\sklearn\\neighbors\\_kde.py:246\u001b[0m, in \u001b[0;36mKernelDensity.score_samples\u001b[1;34m(self, X)\u001b[0m\n\u001b[0;32m    <a href='file:///d%3A/IITK%20files/Non-Parametric%20Inference/project/kde-venv/lib/site-packages/sklearn/neighbors/_kde.py?line=235'>236</a>\u001b[0m atol_N \u001b[39m=\u001b[39m \u001b[39mself\u001b[39m\u001b[39m.\u001b[39matol \u001b[39m*\u001b[39m N\n\u001b[0;32m    <a href='file:///d%3A/IITK%20files/Non-Parametric%20Inference/project/kde-venv/lib/site-packages/sklearn/neighbors/_kde.py?line=236'>237</a>\u001b[0m log_density \u001b[39m=\u001b[39m \u001b[39mself\u001b[39m\u001b[39m.\u001b[39mtree_\u001b[39m.\u001b[39mkernel_density(\n\u001b[0;32m    <a href='file:///d%3A/IITK%20files/Non-Parametric%20Inference/project/kde-venv/lib/site-packages/sklearn/neighbors/_kde.py?line=237'>238</a>\u001b[0m     X,\n\u001b[0;32m    <a href='file:///d%3A/IITK%20files/Non-Parametric%20Inference/project/kde-venv/lib/site-packages/sklearn/neighbors/_kde.py?line=238'>239</a>\u001b[0m     h\u001b[39m=\u001b[39m\u001b[39mself\u001b[39m\u001b[39m.\u001b[39mbandwidth,\n\u001b[1;32m   (...)\u001b[0m\n\u001b[0;32m    <a href='file:///d%3A/IITK%20files/Non-Parametric%20Inference/project/kde-venv/lib/site-packages/sklearn/neighbors/_kde.py?line=243'>244</a>\u001b[0m     return_log\u001b[39m=\u001b[39m\u001b[39mTrue\u001b[39;00m,\n\u001b[0;32m    <a href='file:///d%3A/IITK%20files/Non-Parametric%20Inference/project/kde-venv/lib/site-packages/sklearn/neighbors/_kde.py?line=244'>245</a>\u001b[0m )\n\u001b[1;32m--> <a href='file:///d%3A/IITK%20files/Non-Parametric%20Inference/project/kde-venv/lib/site-packages/sklearn/neighbors/_kde.py?line=245'>246</a>\u001b[0m log_density \u001b[39m-\u001b[39m\u001b[39m=\u001b[39m np\u001b[39m.\u001b[39mlog(N)\n\u001b[0;32m    <a href='file:///d%3A/IITK%20files/Non-Parametric%20Inference/project/kde-venv/lib/site-packages/sklearn/neighbors/_kde.py?line=246'>247</a>\u001b[0m \u001b[39mreturn\u001b[39;00m log_density\n",
      "\u001b[1;31mKeyboardInterrupt\u001b[0m: "
     ]
    },
    {
     "data": {
      "image/png": "[encoded data removed]",
      "text/plain": [
       "<Figure size 864x576 with 6 Axes>"
      ]
     },
     "metadata": {
      "needs_background": "light"
     },
     "output_type": "display_data"
    }
   ],
   "source": [
    "import numpy as np\n",
    "import matplotlib.pyplot as plt\n",
    "from sklearn.neighbors import KernelDensity\n",
    "from itertools import product\n",
    "from tqdm import trange\n",
    "\n",
    "%matplotlib inline\n",
    "\n",
    "data = np.random.multivariate_normal(np.array([0, 0]), np.array([[1, 0.5], [0.5, 1]]), 1000)\n",
    "\n",
    "X1 = X2 = np.linspace(-3, 3, 100)\n",
    "points = np.array(list(product(X1, X2)))\n",
    "\n",
    "X, Y = np.meshgrid(np.linspace(-3, 3, 100), np.linspace(-3, 3, 100))\n",
    "\n",
    "kernels = [['gaussian', 'tophat', 'epanechnikov'], ['exponential', 'linear', 'cosine']]\n",
    "\n",
    "\n",
    "for i in trange(1, len(data) + 1):\n",
    "    sample = data[:i, :]\n",
    "\n",
    "    fig, axs = plt.subplots(2, 3, sharex='all', sharey='all')\n",
    "    fig.set_size_inches(12, 8)\n",
    "    fig.suptitle(f\"N = {i}\")\n",
    "\n",
    "    for row in range(2):\n",
    "        for col in range(3):\n",
    "\n",
    "            kde = KernelDensity(kernel=kernels[row][col], bandwidth=0.75)\n",
    "            kde.fit(sample)\n",
    "            density = np.exp(kde.score_samples(points))\n",
    "\n",
    "            axs[row, col].contourf(X, Y, density.reshape(100, 100))\n",
    "            axs[row, col].set_title(kernels[row][col])\n",
    "\n",
    "    fig.savefig(f'images/frame-{i:04}.jpg')\n",
    "    plt.close()"
   ]
  }
 ],
 "metadata": {
  "interpreter": {
   "hash": "8c2177080ab4908ccfbcd6cf09021ce1b1553c35905d5a2e304fe8e3ffba59a2"
  },
  "kernelspec": {
   "display_name": "Python 3.9.6 ('kde-venv': venv)",
   "language": "python",
   "name": "python3"
  },
  "language_info": {
   "codemirror_mode": {
    "name": "ipython",
    "version": 3
   },
   "file_extension": ".py",
   "mimetype": "text/x-python",
   "name": "python",
   "nbconvert_exporter": "python",
   "pygments_lexer": "ipython3",
   "version": "3.9.6"
  },
  "orig_nbformat": 4
 },
 "nbformat": 4,
 "nbformat_minor": 2
}
